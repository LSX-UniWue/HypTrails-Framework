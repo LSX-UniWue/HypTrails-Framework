{
 "cells": [
  {
   "cell_type": "code",
   "execution_count": 2,
   "metadata": {},
   "outputs": [],
   "source": [
    "import json\n",
    "from tqdm import tqdm\n",
    "from pathlib import Path\n",
    "from collections import defaultdict\n",
    "DATA_PATH = Path(\"data\", \"bibliometric_dataset\")"
   ]
  },
  {
   "cell_type": "code",
   "execution_count": null,
   "metadata": {},
   "outputs": [],
   "source": [
    "pubs = []\n",
    "with open(Path(DATA_PATH, \"ai_dataset.jsonl\"), 'r') as f:\n",
    "    for line in tqdm(f, desc=\"Reading dataset ...\"):\n",
    "        pubs.append(json.loads(line))\n",
    "\n",
    "authors = []\n",
    "with open(Path(DATA_PATH, \"persons_matched.jsonl\"), 'r') as f:\n",
    "    for idx, line in enumerate(tqdm(f, desc=\"Loading authors ...\")):\n",
    "        authors.append(json.loads(line))\n",
    "\n",
    "schol_affi = [x for x in authors if 'schol_affiliations' in x and x['schol_affiliations'] is not None]\n",
    "dblp_affi = [x for x in authors if 'note' in x and x['note'] is not None]\n",
    "\n",
    "print(f\"Having {len(schol_affi)} authors with schol affiliations and {len(dblp_affi)} authors with dblp affiliations.\")"
   ]
  },
  {
   "cell_type": "code",
   "execution_count": null,
   "metadata": {},
   "outputs": [],
   "source": [
    "source = Path(DATA_PATH, 'ai_dataset.jsonl')\n",
    "citation_path = Path(DATA_PATH, 'semantic_citations.csv')\n",
    "target = Path(DATA_PATH, 'ai_dataset.tmp.jsonl')\n",
    "\n",
    "citations = defaultdict(list)\n",
    "with open(citation_path, \"r\", encoding=\"utf-8\") as f:\n",
    "    for line in tqdm(f, desc=\"\\tReading semantic_scholar citations ...\"):\n",
    "        line = line.split(\",\")\n",
    "        citations[line[0].strip()].append(line[1].strip())\n",
    "\n",
    "pubs = []\n",
    "with open(source, \"r\", encoding=\"utf-8\") as f:\n",
    "    for line in f:\n",
    "        pubs.append(json.loads(line))\n",
    "corpusids = {x['corpusid']: i for i, x in enumerate(pubs) if 'corpusid' in x}\n",
    "\n",
    "with open(target, 'w', encoding=\"utf-8\") as out_f:\n",
    "    for pub in tqdm(pubs, desc=\"\\tAdding citations ...\"):\n",
    "        if pub['key'] in citations:\n",
    "            pub['citations'] = citations[pub['key']]\n",
    "        out_f.write(json.dumps(pub) + \"\\n\")"
   ]
  },
  {
   "cell_type": "markdown",
   "metadata": {},
   "source": []
  },
  {
   "cell_type": "code",
   "execution_count": null,
   "metadata": {},
   "outputs": [],
   "source": [
    "## Change DBLP affiliations to list\n",
    "\n",
    "persons = []\n",
    "with open(Path(DATA_PATH, \"persons_matched.jsonl\"), 'r') as f:\n",
    "    for idx, line in enumerate(tqdm(f, desc=\"Loading authors ...\")):\n",
    "        line = json.loads(line)\n",
    "        line['id'] = idx\n",
    "        if isinstance(line['author'], str):\n",
    "            line['author'] = [line['author']]\n",
    "        persons.append(line)\n",
    "\n",
    "country_domains = dict()\n",
    "with open(Path(DATA_PATH, \"country_domains.csv\"), 'r') as f:\n",
    "    for line in f:\n",
    "        curr = [x.strip() for x in line.split(\";\")]\n",
    "        country_domains[curr[0]] = curr[0]\n",
    "        country_domains[curr[1]] = curr[0]\n",
    "        "
   ]
  },
  {
   "cell_type": "code",
   "execution_count": null,
   "metadata": {},
   "outputs": [],
   "source": [
    "all_countries = set()\n",
    "for person in tqdm(persons, desc=\"Changing affiliations ...\"):\n",
    "    if 'note' in person and person['note'] is not None:\n",
    "        affi = []\n",
    "        countries = set()\n",
    "        if isinstance(person['note'], str):\n",
    "            affi.append(person['note'])\n",
    "        elif isinstance(person['note'], list):\n",
    "            for x in person['note']:\n",
    "                if isinstance(x, str):\n",
    "                    affi.append(x)\n",
    "        person['dblp_affiliations'] = affi\n",
    "        for aff in affi:\n",
    "            splitted = aff.split(\",\")[-1].strip()\n",
    "            if splitted in country_domains:\n",
    "                countries.add(country_domains[splitted])\n",
    "                all_countries.add(country_domains[splitted])\n",
    "        person['countries'] = list(countries)\n",
    "        del person['note']\n"
   ]
  },
  {
   "cell_type": "code",
   "execution_count": null,
   "metadata": {},
   "outputs": [],
   "source": [
    "with open(Path(DATA_PATH, \"persons_matched.tmp.jsonl\"), 'w') as f:\n",
    "    for person in tqdm(persons, desc=\"Writing authors ...\"):\n",
    "        f.write(json.dumps(person) + \"\\n\")"
   ]
  },
  {
   "cell_type": "code",
   "execution_count": 24,
   "metadata": {},
   "outputs": [],
   "source": [
    "import requests\n",
    "\n",
    "def get_geocodes(address):\n",
    "    endpoint = \"https://nominatim.openstreetmap.org/search\"\n",
    "    params = {\n",
    "        \"q\": address,\n",
    "        \"format\": \"json\",\n",
    "        \"limit\": 1\n",
    "    }\n",
    "    response = requests.get(endpoint, params=params)\n",
    "    try:\n",
    "        data = response.json()\n",
    "        if len(data) == 0:\n",
    "            return (address, None, None)\n",
    "        name = data[0][\"display_name\"]\n",
    "        lat = data[0][\"lat\"]\n",
    "        lon = data[0][\"lon\"]\n",
    "        return (name, lat, lon)\n",
    "    except:\n",
    "        return print(response.text)\n",
    "        exit(1)\n",
    "        "
   ]
  },
  {
   "cell_type": "code",
   "execution_count": null,
   "metadata": {},
   "outputs": [],
   "source": [
    "country_domains = dict()\n",
    "with open(Path(DATA_PATH, \"country_domains.csv\"), 'r') as f:\n",
    "    for line in f:\n",
    "        curr = [x.strip() for x in line.split(\";\")]\n",
    "        country_domains[curr[0]] = curr[0]\n",
    "        country_domains[curr[1]] = curr[0]\n",
    "\n",
    "country_to_coord = {}\n",
    "country_long = set(country_domains.values())\n",
    "for country in country_long:\n",
    "    name, lat, lon = get_geocodes(country)\n",
    "    print(f\"{country}: {lat}, {lon}\")\n",
    "    country_to_coord[country] = (lat, lon)\n",
    "\n",
    "with open(Path(DATA_PATH, \"country_to_coord.json\"), 'w') as f:\n",
    "    f.write(json.dumps(country_to_coord))"
   ]
  },
  {
   "cell_type": "code",
   "execution_count": 27,
   "metadata": {},
   "outputs": [
    {
     "name": "stderr",
     "output_type": "stream",
     "text": [
      "Getting geocodes ...:   4%|▍         | 549/12997 [06:24<2:25:16,  1.43it/s]"
     ]
    },
    {
     "name": "stdout",
     "output_type": "stream",
     "text": [
      "<html>\n",
      "<head><title>502 Bad Gateway</title></head>\n",
      "<body>\n",
      "<center><h1>502 Bad Gateway</h1></center>\n",
      "<hr><center>nginx</center>\n",
      "</body>\n",
      "</html>\n",
      "\n"
     ]
    },
    {
     "name": "stderr",
     "output_type": "stream",
     "text": [
      "\n"
     ]
    },
    {
     "ename": "TypeError",
     "evalue": "cannot unpack non-iterable NoneType object",
     "output_type": "error",
     "traceback": [
      "\u001b[0;31m---------------------------------------------------------------------------\u001b[0m",
      "\u001b[0;31mTypeError\u001b[0m                                 Traceback (most recent call last)",
      "Cell \u001b[0;32mIn[27], line 11\u001b[0m\n\u001b[1;32m      9\u001b[0m \u001b[39mif\u001b[39;00m \u001b[39mlen\u001b[39m(curr) \u001b[39m>\u001b[39m \u001b[39m1\u001b[39m:\n\u001b[1;32m     10\u001b[0m     first_try \u001b[39m=\u001b[39m curr[\u001b[39m0\u001b[39m]\u001b[39m.\u001b[39mstrip()\n\u001b[0;32m---> 11\u001b[0m     name, lat, lon \u001b[39m=\u001b[39m get_geocodes(curr[\u001b[39m0\u001b[39m]\u001b[39m.\u001b[39mstrip())\n\u001b[1;32m     12\u001b[0m     \u001b[39mif\u001b[39;00m lat \u001b[39mis\u001b[39;00m \u001b[39mnot\u001b[39;00m \u001b[39mNone\u001b[39;00m:\n\u001b[1;32m     13\u001b[0m         f\u001b[39m.\u001b[39mwrite(json\u001b[39m.\u001b[39mdumps({\u001b[39m\"\u001b[39m\u001b[39maffiliation\u001b[39m\u001b[39m\"\u001b[39m: aff, \u001b[39m\"\u001b[39m\u001b[39mopenstreetname\u001b[39m\u001b[39m\"\u001b[39m: name, \u001b[39m\"\u001b[39m\u001b[39mlat\u001b[39m\u001b[39m\"\u001b[39m: lat, \u001b[39m\"\u001b[39m\u001b[39mlon\u001b[39m\u001b[39m\"\u001b[39m: lon}) \u001b[39m+\u001b[39m \u001b[39m\"\u001b[39m\u001b[39m\\n\u001b[39;00m\u001b[39m\"\u001b[39m)\n",
      "\u001b[0;31mTypeError\u001b[0m: cannot unpack non-iterable NoneType object"
     ]
    }
   ],
   "source": [
    "affiliations = []\n",
    "with open(Path(DATA_PATH, \"dblp_affiliations.txt\"), 'r') as f:\n",
    "    for line in f:\n",
    "        affiliations.append(line.strip())\n",
    "\n",
    "with open(Path(DATA_PATH, \"dblp_affiliations_coords.jsonl\"), 'a') as f:\n",
    "    for aff in tqdm(affiliations[14896:], desc=\"Getting geocodes ...\"): # 1606 + 7492 + 5250 + 549 = 14896\n",
    "        curr = aff.strip().split(\",\")\n",
    "        if len(curr) > 1:\n",
    "            first_try = curr[0].strip()\n",
    "            name, lat, lon = get_geocodes(curr[0].strip())\n",
    "            if lat is not None:\n",
    "                f.write(json.dumps({\"affiliation\": aff, \"openstreetname\": name, \"lat\": lat, \"lon\": lon}) + \"\\n\")\n",
    "            else:\n",
    "                name, lat, lon = get_geocodes(curr[1].strip())\n",
    "                if lat is not None:\n",
    "                    name, lat, lon = get_geocodes(curr[1].strip())\n",
    "                    f.write(json.dumps({\"affiliation\": aff, \"openstreetname\": name, \"lat\": lat, \"lon\": lon}) + \"\\n\")\n",
    "        else:\n",
    "            name, lat, lon = get_geocodes(curr[0].strip())\n",
    "            if lat is not None:\n",
    "                f.write(json.dumps({\"affiliation\": aff, \"openstreetname\": name, \"lat\": lat, \"lon\": lon}) + \"\\n\")"
   ]
  },
  {
   "cell_type": "code",
   "execution_count": 5,
   "metadata": {},
   "outputs": [
    {
     "name": "stderr",
     "output_type": "stream",
     "text": [
      "Loading embeddings ...: 250033it [00:05, 43231.12it/s]\n",
      "Loading authors ...: 416242it [00:02, 164345.40it/s]\n",
      "Writing embeddings ...: 100%|██████████| 250033/250033 [00:10<00:00, 23369.95it/s]\n"
     ]
    },
    {
     "data": {
      "text/plain": [
       "2291"
      ]
     },
     "execution_count": 5,
     "metadata": {},
     "output_type": "execute_result"
    }
   ],
   "source": [
    "# Change Deepwalk embeddings to jsonl\n",
    "\n",
    "graph_embeddings = {}\n",
    "with open(Path(DATA_PATH, \"graph.embeddings\"), 'r') as f:\n",
    "    for line in tqdm(f, desc=\"Loading embeddings ...\"):\n",
    "        curr = line.split(\" \")\n",
    "        graph_embeddings[int(curr[0])] = [float(x) for x in curr[1:]]\n",
    "\n",
    "authors = {}\n",
    "with open(Path(DATA_PATH, \"persons_matched.jsonl\"), 'r') as f:\n",
    "    for line in tqdm(f, desc=\"Loading authors ...\"):\n",
    "        curr = json.loads(line)\n",
    "        authors[curr['id']] = curr['author'][0]\n",
    "\n",
    "counter = 0\n",
    "with open(Path(DATA_PATH, \"graph_embeddings.jsonl\"), 'w') as f:\n",
    "    for idx, emb in tqdm(graph_embeddings.items(), desc=\"Writing embeddings ...\"):\n",
    "        if idx in authors:\n",
    "            f.write(json.dumps({\"author\": authors[idx], \"embedding\": emb}) + \"\\n\")\n",
    "        else:\n",
    "            counter += 1\n",
    "\n",
    "counter "
   ]
  },
  {
   "cell_type": "code",
   "execution_count": 31,
   "metadata": {},
   "outputs": [],
   "source": [
    "## try to change data from a csr matrix\n",
    "import numpy as np\n",
    "from scipy.spatial import distance\n",
    "\n",
    "a = np.zeros(768)\n",
    "b = np.ones(768) / 768\n",
    "c = np.random.rand(768)\n",
    "c /= c.sum()\n",
    "d = np.random.rand(768)\n",
    "d /= d.sum()"
   ]
  },
  {
   "cell_type": "code",
   "execution_count": 34,
   "metadata": {},
   "outputs": [
    {
     "name": "stderr",
     "output_type": "stream",
     "text": [
      "/Users/tobiaskoopmann/PycharmProjects/code-2023-hydras/.venv/lib/python3.9/site-packages/scipy/spatial/distance.py:622: RuntimeWarning: invalid value encountered in scalar divide\n",
      "  dist = 1.0 - uv / np.sqrt(uu * vv)\n"
     ]
    },
    {
     "data": {
      "text/plain": [
       "(0, 1, 0.8644085490197413, 0.7487417135044805, 0)"
      ]
     },
     "execution_count": 34,
     "metadata": {},
     "output_type": "execute_result"
    }
   ],
   "source": [
    "distance.cosine(a, b), 1 - distance.cosine(a, c), 1 - distance.cosine(b, c), 1 - distance.cosine(c, d), distance.cosine(d, d)"
   ]
  },
  {
   "cell_type": "code",
   "execution_count": 36,
   "metadata": {},
   "outputs": [
    {
     "data": {
      "text/plain": [
       "(1.0, 0.0, 0, 1)"
      ]
     },
     "execution_count": 36,
     "metadata": {},
     "output_type": "execute_result"
    }
   ],
   "source": [
    "e = np.array([0, 1])\n",
    "f = np.array([1, 0])\n",
    "g = np.array([1, 0])\n",
    "distance.cosine(e, f), 1- distance.cosine(e, f), distance.cosine(f, g), 1 - distance.cosine(f, g)"
   ]
  },
  {
   "cell_type": "code",
   "execution_count": null,
   "metadata": {},
   "outputs": [],
   "source": []
  }
 ],
 "metadata": {
  "kernelspec": {
   "display_name": ".venv",
   "language": "python",
   "name": "python3"
  },
  "language_info": {
   "codemirror_mode": {
    "name": "ipython",
    "version": 3
   },
   "file_extension": ".py",
   "mimetype": "text/x-python",
   "name": "python",
   "nbconvert_exporter": "python",
   "pygments_lexer": "ipython3",
   "version": "3.9.16"
  },
  "orig_nbformat": 4
 },
 "nbformat": 4,
 "nbformat_minor": 2
}
