{
 "cells": [
  {
   "cell_type": "code",
   "execution_count": null,
   "metadata": {},
   "outputs": [],
   "source": [
    "import json\n",
    "from tqdm import tqdm\n",
    "from pathlib import Path\n",
    "from collections import defaultdict\n",
    "DATA_PATH = Path(\"data\", \"bibliometric_dataset\")"
   ]
  },
  {
   "cell_type": "code",
   "execution_count": null,
   "metadata": {},
   "outputs": [],
   "source": [
    "pubs = []\n",
    "with open(Path(DATA_PATH, \"ai_dataset.jsonl\"), 'r') as f:\n",
    "    for line in tqdm(f, desc=\"Reading dataset ...\"):\n",
    "        pubs.append(json.loads(line))\n",
    "\n",
    "authors = []\n",
    "with open(Path(DATA_PATH, \"persons_matched.jsonl\"), 'r') as f:\n",
    "    for idx, line in enumerate(tqdm(f, desc=\"Loading authors ...\")):\n",
    "        authors.append(json.loads(line))\n",
    "\n",
    "schol_affi = [x for x in authors if 'schol_affiliations' in x and x['schol_affiliations'] is not None]\n",
    "dblp_affi = [x for x in authors if 'note' in x and x['note'] is not None]\n",
    "\n",
    "print(f\"Having {len(schol_affi)} authors with schol affiliations and {len(dblp_affi)} authors with dblp affiliations.\")"
   ]
  },
  {
   "cell_type": "code",
   "execution_count": null,
   "metadata": {},
   "outputs": [],
   "source": [
    "source = Path(DATA_PATH, 'ai_dataset.jsonl')\n",
    "citation_path = Path(DATA_PATH, 'semantic_citations.csv')\n",
    "target = Path(DATA_PATH, 'ai_dataset.tmp.jsonl')\n",
    "\n",
    "citations = defaultdict(list)\n",
    "with open(citation_path, \"r\", encoding=\"utf-8\") as f:\n",
    "    for line in tqdm(f, desc=\"\\tReading semantic_scholar citations ...\"):\n",
    "        line = line.split(\",\")\n",
    "        citations[line[0].strip()].append(line[1].strip())\n",
    "\n",
    "pubs = []\n",
    "with open(source, \"r\", encoding=\"utf-8\") as f:\n",
    "    for line in f:\n",
    "        pubs.append(json.loads(line))\n",
    "corpusids = {x['corpusid']: i for i, x in enumerate(pubs) if 'corpusid' in x}\n",
    "\n",
    "with open(target, 'w', encoding=\"utf-8\") as out_f:\n",
    "    for pub in tqdm(pubs, desc=\"\\tAdding citations ...\"):\n",
    "        if pub['key'] in citations:\n",
    "            pub['citations'] = citations[pub['key']]\n",
    "        out_f.write(json.dumps(pub) + \"\\n\")"
   ]
  },
  {
   "cell_type": "markdown",
   "metadata": {},
   "source": []
  },
  {
   "cell_type": "code",
   "execution_count": null,
   "metadata": {},
   "outputs": [],
   "source": [
    "## Change DBLP affiliations to list\n",
    "\n",
    "persons = []\n",
    "with open(Path(DATA_PATH, \"persons_matched.jsonl\"), 'r') as f:\n",
    "    for idx, line in enumerate(tqdm(f, desc=\"Loading authors ...\")):\n",
    "        line = json.loads(line)\n",
    "        line['id'] = idx\n",
    "        if isinstance(line['author'], str):\n",
    "            line['author'] = [line['author']]\n",
    "        persons.append(line)\n",
    "\n",
    "country_domains = dict()\n",
    "with open(Path(DATA_PATH, \"country_domains.csv\"), 'r') as f:\n",
    "    for line in f:\n",
    "        curr = [x.strip() for x in line.split(\";\")]\n",
    "        country_domains[curr[0]] = curr[0]\n",
    "        country_domains[curr[1]] = curr[0]\n",
    "        "
   ]
  },
  {
   "cell_type": "code",
   "execution_count": null,
   "metadata": {},
   "outputs": [],
   "source": [
    "all_countries = set()\n",
    "for person in tqdm(persons, desc=\"Changing affiliations ...\"):\n",
    "    if 'note' in person and person['note'] is not None:\n",
    "        affi = []\n",
    "        countries = set()\n",
    "        if isinstance(person['note'], str):\n",
    "            affi.append(person['note'])\n",
    "        elif isinstance(person['note'], list):\n",
    "            for x in person['note']:\n",
    "                if isinstance(x, str):\n",
    "                    affi.append(x)\n",
    "        person['dblp_affiliations'] = affi\n",
    "        for aff in affi:\n",
    "            splitted = aff.split(\",\")[-1].strip()\n",
    "            if splitted in country_domains:\n",
    "                countries.add(country_domains[splitted])\n",
    "                all_countries.add(country_domains[splitted])\n",
    "        person['countries'] = list(countries)\n",
    "        del person['note']\n"
   ]
  },
  {
   "cell_type": "code",
   "execution_count": null,
   "metadata": {},
   "outputs": [],
   "source": [
    "with open(Path(DATA_PATH, \"persons_matched.tmp.jsonl\"), 'w') as f:\n",
    "    for person in tqdm(persons, desc=\"Writing authors ...\"):\n",
    "        f.write(json.dumps(person) + \"\\n\")"
   ]
  },
  {
   "cell_type": "code",
   "execution_count": null,
   "metadata": {},
   "outputs": [],
   "source": [
    "import requests\n",
    "\n",
    "def get_geocodes(address):\n",
    "    endpoint = \"https://nominatim.openstreetmap.org/search\"\n",
    "    params = {\n",
    "        \"q\": address,\n",
    "        \"format\": \"json\",\n",
    "        \"limit\": 1\n",
    "    }\n",
    "    response = requests.get(endpoint, params=params)\n",
    "    try:\n",
    "        data = response.json()\n",
    "        if len(data) == 0:\n",
    "            return (address, None, None)\n",
    "        name = data[0][\"display_name\"]\n",
    "        lat = data[0][\"lat\"]\n",
    "        lon = data[0][\"lon\"]\n",
    "        return (name, lat, lon)\n",
    "    except:\n",
    "        return print(response.text)\n",
    "        exit(1)\n",
    "        "
   ]
  },
  {
   "cell_type": "code",
   "execution_count": null,
   "metadata": {},
   "outputs": [],
   "source": [
    "country_domains = dict()\n",
    "with open(Path(DATA_PATH, \"country_domains.csv\"), 'r') as f:\n",
    "    for line in f:\n",
    "        curr = [x.strip() for x in line.split(\";\")]\n",
    "        country_domains[curr[0]] = curr[0]\n",
    "        country_domains[curr[1]] = curr[0]\n",
    "\n",
    "country_to_coord = {}\n",
    "country_long = set(country_domains.values())\n",
    "for country in country_long:\n",
    "    name, lat, lon = get_geocodes(country)\n",
    "    print(f\"{country}: {lat}, {lon}\")\n",
    "    country_to_coord[country] = (lat, lon)\n",
    "\n",
    "with open(Path(DATA_PATH, \"country_to_coord.json\"), 'w') as f:\n",
    "    f.write(json.dumps(country_to_coord))"
   ]
  },
  {
   "cell_type": "code",
   "execution_count": null,
   "metadata": {},
   "outputs": [],
   "source": [
    "affiliations = []\n",
    "with open(Path(DATA_PATH, \"dblp_affiliations.txt\"), 'r') as f:\n",
    "    for line in f:\n",
    "        affiliations.append(line.strip())\n",
    "\n",
    "with open(Path(DATA_PATH, \"dblp_affiliations_coords.jsonl\"), 'a') as f:\n",
    "    for aff in tqdm(affiliations[14896:], desc=\"Getting geocodes ...\"): \n",
    "        curr = aff.strip().split(\",\")\n",
    "        if len(curr) > 1:\n",
    "            first_try = curr[0].strip()\n",
    "            name, lat, lon = get_geocodes(curr[0].strip())\n",
    "            if lat is not None:\n",
    "                f.write(json.dumps({\"affiliation\": aff, \"openstreetname\": name, \"lat\": lat, \"lon\": lon}) + \"\\n\")\n",
    "            else:\n",
    "                name, lat, lon = get_geocodes(curr[1].strip())\n",
    "                if lat is not None:\n",
    "                    name, lat, lon = get_geocodes(curr[1].strip())\n",
    "                    f.write(json.dumps({\"affiliation\": aff, \"openstreetname\": name, \"lat\": lat, \"lon\": lon}) + \"\\n\")\n",
    "        else:\n",
    "            name, lat, lon = get_geocodes(curr[0].strip())\n",
    "            if lat is not None:\n",
    "                f.write(json.dumps({\"affiliation\": aff, \"openstreetname\": name, \"lat\": lat, \"lon\": lon}) + \"\\n\")"
   ]
  },
  {
   "cell_type": "code",
   "execution_count": null,
   "metadata": {},
   "outputs": [],
   "source": [
    "# Change Deepwalk embeddings to jsonl\n",
    "\n",
    "graph_embeddings = {}\n",
    "with open(Path(DATA_PATH, \"graph.embeddings\"), 'r') as f:\n",
    "    for line in tqdm(f, desc=\"Loading embeddings ...\"):\n",
    "        curr = line.split(\" \")\n",
    "        graph_embeddings[int(curr[0])] = [float(x) for x in curr[1:]]\n",
    "\n",
    "authors = {}\n",
    "with open(Path(DATA_PATH, \"persons_matched.jsonl\"), 'r') as f:\n",
    "    for line in tqdm(f, desc=\"Loading authors ...\"):\n",
    "        curr = json.loads(line)\n",
    "        authors[curr['id']] = curr['author'][0]\n",
    "\n",
    "counter = 0\n",
    "with open(Path(DATA_PATH, \"graph_embeddings.jsonl\"), 'w') as f:\n",
    "    for idx, emb in tqdm(graph_embeddings.items(), desc=\"Writing embeddings ...\"):\n",
    "        if idx in authors:\n",
    "            f.write(json.dumps({\"author\": authors[idx], \"embedding\": emb}) + \"\\n\")\n",
    "        else:\n",
    "            counter += 1\n",
    "\n",
    "counter "
   ]
  },
  {
   "cell_type": "code",
   "execution_count": 51,
   "metadata": {},
   "outputs": [],
   "source": [
    "## Analyse saved hypothesis matrices\n",
    "\n",
    "import numpy as np\n",
    "from scipy.sparse import csr_matrix\n",
    "from pathlib import Path\n",
    "DATA_PATH = Path(\"data\", \"matrices\")\n",
    "\n",
    "hypothesis = csr_matrix(np.load(Path(DATA_PATH, \"prev_co_authors.npy\"), allow_pickle=True).item())\n"
   ]
  },
  {
   "cell_type": "code",
   "execution_count": 52,
   "metadata": {},
   "outputs": [
    {
     "data": {
      "text/plain": [
       "array([[nan, nan, nan, ..., nan, nan, nan]])"
      ]
     },
     "execution_count": 52,
     "metadata": {},
     "output_type": "execute_result"
    }
   ],
   "source": [
    "hypothesis[0].A"
   ]
  },
  {
   "cell_type": "code",
   "execution_count": null,
   "metadata": {},
   "outputs": [],
   "source": []
  }
 ],
 "metadata": {
  "kernelspec": {
   "display_name": ".venv",
   "language": "python",
   "name": "python3"
  },
  "language_info": {
   "codemirror_mode": {
    "name": "ipython",
    "version": 3
   },
   "file_extension": ".py",
   "mimetype": "text/x-python",
   "name": "python",
   "nbconvert_exporter": "python",
   "pygments_lexer": "ipython3",
   "version": "3.9.16"
  },
  "orig_nbformat": 4
 },
 "nbformat": 4,
 "nbformat_minor": 2
}
